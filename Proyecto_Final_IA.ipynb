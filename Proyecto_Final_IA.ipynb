{
 "cells": [
  {
   "cell_type": "markdown",
   "id": "14240bca-26da-4fc0-80f8-9dca275d6252",
   "metadata": {},
   "source": [
    "## Proyecto Final, Inteligencia Artificial\n",
    "#### Estudiantes: Esteban Moreno (1026305358) y John Gordillo (1045722169)\n",
    "##### Profesor: Hugo Franco, PhD\n",
    "##### 29 de Noviembre de 2021"
   ]
  },
  {
   "cell_type": "markdown",
   "id": "0a609cb8-6b2a-4e09-a8c9-8f005f6a7870",
   "metadata": {},
   "source": [
    "### 1. Importación de las depedencias "
   ]
  },
  {
   "cell_type": "code",
   "execution_count": 71,
   "id": "5297dc9a-c9e5-43af-bf8d-c297610b50dc",
   "metadata": {},
   "outputs": [],
   "source": [
    "#Se utiliza para manejar listas en Python\n",
    "import numpy as np\n",
    "#Facilita la manipulación y tratamiento de datos.\n",
    "import pandas as pd\n",
    "#import train_test_split se utiliza para dividir los datos de entrenamiento del algoritmo y datos de prueba  \n",
    "from sklearn.model_selection import train_test_split\n",
    "#Modelo de regresion logistica\n",
    "from sklearn.linear_model import LogisticRegression\n",
    "#Puntuacion de presicion\n",
    "from sklearn.metrics import accuracy_score\n",
    "from sklearn import metrics"
   ]
  },
  {
   "cell_type": "markdown",
   "id": "b4ebdaea-338e-4f14-802e-3f85a871b5c2",
   "metadata": {},
   "source": [
    "### 2. Recopilación y procesamiento de datos"
   ]
  },
  {
   "cell_type": "code",
   "execution_count": 72,
   "id": "19e886f5-5c60-46cf-b462-10953fd0b255",
   "metadata": {},
   "outputs": [],
   "source": [
    "# Carga de los datos (Dataset), con la extensión csv, en un pantas Dataframe\n",
    "datos = pd.read_csv('InteligenciaDatos.csv')"
   ]
  },
  {
   "cell_type": "code",
   "execution_count": 73,
   "id": "f9022a94-8b04-4488-ab2e-4e9221393c0b",
   "metadata": {},
   "outputs": [
    {
     "data": {
      "text/html": [
       "<div>\n",
       "<style scoped>\n",
       "    .dataframe tbody tr th:only-of-type {\n",
       "        vertical-align: middle;\n",
       "    }\n",
       "\n",
       "    .dataframe tbody tr th {\n",
       "        vertical-align: top;\n",
       "    }\n",
       "\n",
       "    .dataframe thead th {\n",
       "        text-align: right;\n",
       "    }\n",
       "</style>\n",
       "<table border=\"1\" class=\"dataframe\">\n",
       "  <thead>\n",
       "    <tr style=\"text-align: right;\">\n",
       "      <th></th>\n",
       "      <th>age</th>\n",
       "      <th>sex</th>\n",
       "      <th>cp</th>\n",
       "      <th>trestbps</th>\n",
       "      <th>chol</th>\n",
       "      <th>fbs</th>\n",
       "      <th>restecg</th>\n",
       "      <th>thalach</th>\n",
       "      <th>exang</th>\n",
       "      <th>oldpeak</th>\n",
       "      <th>slope</th>\n",
       "      <th>ca</th>\n",
       "      <th>thal</th>\n",
       "      <th>target</th>\n",
       "    </tr>\n",
       "  </thead>\n",
       "  <tbody>\n",
       "    <tr>\n",
       "      <th>0</th>\n",
       "      <td>63</td>\n",
       "      <td>1</td>\n",
       "      <td>3</td>\n",
       "      <td>145</td>\n",
       "      <td>233</td>\n",
       "      <td>1</td>\n",
       "      <td>0</td>\n",
       "      <td>150</td>\n",
       "      <td>0</td>\n",
       "      <td>2.3</td>\n",
       "      <td>0</td>\n",
       "      <td>0</td>\n",
       "      <td>1</td>\n",
       "      <td>1</td>\n",
       "    </tr>\n",
       "    <tr>\n",
       "      <th>1</th>\n",
       "      <td>37</td>\n",
       "      <td>1</td>\n",
       "      <td>2</td>\n",
       "      <td>130</td>\n",
       "      <td>250</td>\n",
       "      <td>0</td>\n",
       "      <td>1</td>\n",
       "      <td>187</td>\n",
       "      <td>0</td>\n",
       "      <td>3.5</td>\n",
       "      <td>0</td>\n",
       "      <td>0</td>\n",
       "      <td>2</td>\n",
       "      <td>1</td>\n",
       "    </tr>\n",
       "    <tr>\n",
       "      <th>2</th>\n",
       "      <td>41</td>\n",
       "      <td>0</td>\n",
       "      <td>1</td>\n",
       "      <td>130</td>\n",
       "      <td>204</td>\n",
       "      <td>0</td>\n",
       "      <td>0</td>\n",
       "      <td>172</td>\n",
       "      <td>0</td>\n",
       "      <td>1.4</td>\n",
       "      <td>2</td>\n",
       "      <td>0</td>\n",
       "      <td>2</td>\n",
       "      <td>1</td>\n",
       "    </tr>\n",
       "    <tr>\n",
       "      <th>3</th>\n",
       "      <td>56</td>\n",
       "      <td>1</td>\n",
       "      <td>1</td>\n",
       "      <td>120</td>\n",
       "      <td>236</td>\n",
       "      <td>0</td>\n",
       "      <td>1</td>\n",
       "      <td>178</td>\n",
       "      <td>0</td>\n",
       "      <td>0.8</td>\n",
       "      <td>2</td>\n",
       "      <td>0</td>\n",
       "      <td>2</td>\n",
       "      <td>1</td>\n",
       "    </tr>\n",
       "    <tr>\n",
       "      <th>4</th>\n",
       "      <td>57</td>\n",
       "      <td>0</td>\n",
       "      <td>0</td>\n",
       "      <td>120</td>\n",
       "      <td>354</td>\n",
       "      <td>0</td>\n",
       "      <td>1</td>\n",
       "      <td>163</td>\n",
       "      <td>1</td>\n",
       "      <td>0.6</td>\n",
       "      <td>2</td>\n",
       "      <td>0</td>\n",
       "      <td>2</td>\n",
       "      <td>1</td>\n",
       "    </tr>\n",
       "  </tbody>\n",
       "</table>\n",
       "</div>"
      ],
      "text/plain": [
       "   age  sex  cp  trestbps  chol  fbs  restecg  thalach  exang  oldpeak  slope  \\\n",
       "0   63    1   3       145   233    1        0      150      0      2.3      0   \n",
       "1   37    1   2       130   250    0        1      187      0      3.5      0   \n",
       "2   41    0   1       130   204    0        0      172      0      1.4      2   \n",
       "3   56    1   1       120   236    0        1      178      0      0.8      2   \n",
       "4   57    0   0       120   354    0        1      163      1      0.6      2   \n",
       "\n",
       "   ca  thal  target  \n",
       "0   0     1       1  \n",
       "1   0     2       1  \n",
       "2   0     2       1  \n",
       "3   0     2       1  \n",
       "4   0     2       1  "
      ]
     },
     "execution_count": 73,
     "metadata": {},
     "output_type": "execute_result"
    }
   ],
   "source": [
    "# Imprime las 5 primeras lineas (personas)\n",
    "datos.head()"
   ]
  },
  {
   "cell_type": "code",
   "execution_count": 74,
   "id": "f4feacc1-5650-45e4-bc06-5dd227b150e8",
   "metadata": {},
   "outputs": [
    {
     "data": {
      "text/plain": [
       "(303, 14)"
      ]
     },
     "execution_count": 74,
     "metadata": {},
     "output_type": "execute_result"
    }
   ],
   "source": [
    "# Imprime el numero de filas y columnas (caracteristicas) del dataset\n",
    "datos.shape"
   ]
  },
  {
   "cell_type": "code",
   "execution_count": 75,
   "id": "34da085c-d06f-45a0-a1c5-b1e560352781",
   "metadata": {},
   "outputs": [
    {
     "name": "stdout",
     "output_type": "stream",
     "text": [
      "<class 'pandas.core.frame.DataFrame'>\n",
      "RangeIndex: 303 entries, 0 to 302\n",
      "Data columns (total 14 columns):\n",
      " #   Column    Non-Null Count  Dtype  \n",
      "---  ------    --------------  -----  \n",
      " 0   age       303 non-null    int64  \n",
      " 1   sex       303 non-null    int64  \n",
      " 2   cp        303 non-null    int64  \n",
      " 3   trestbps  303 non-null    int64  \n",
      " 4   chol      303 non-null    int64  \n",
      " 5   fbs       303 non-null    int64  \n",
      " 6   restecg   303 non-null    int64  \n",
      " 7   thalach   303 non-null    int64  \n",
      " 8   exang     303 non-null    int64  \n",
      " 9   oldpeak   303 non-null    float64\n",
      " 10  slope     303 non-null    int64  \n",
      " 11  ca        303 non-null    int64  \n",
      " 12  thal      303 non-null    int64  \n",
      " 13  target    303 non-null    int64  \n",
      "dtypes: float64(1), int64(13)\n",
      "memory usage: 33.3 KB\n"
     ]
    }
   ],
   "source": [
    "# Imprime la informacion del dataset\n",
    "datos.info()"
   ]
  },
  {
   "cell_type": "code",
   "execution_count": 76,
   "id": "f95055be-0e1e-43f1-8d2f-80090732be57",
   "metadata": {},
   "outputs": [
    {
     "data": {
      "text/plain": [
       "age         0\n",
       "sex         0\n",
       "cp          0\n",
       "trestbps    0\n",
       "chol        0\n",
       "fbs         0\n",
       "restecg     0\n",
       "thalach     0\n",
       "exang       0\n",
       "oldpeak     0\n",
       "slope       0\n",
       "ca          0\n",
       "thal        0\n",
       "target      0\n",
       "dtype: int64"
      ]
     },
     "execution_count": 76,
     "metadata": {},
     "output_type": "execute_result"
    }
   ],
   "source": [
    "# Imprime la suma de valores vacios, esto se hace con el fin de \n",
    "#verificar si dentro del dataset que se importo hay valores vacios \n",
    "#que no permitan el adecuado análisis o entrenamiento de modelo de machine learning. \n",
    "datos.isnull().sum()"
   ]
  },
  {
   "cell_type": "code",
   "execution_count": 77,
   "id": "0165409e-e433-41e2-8189-7f5427a4ea58",
   "metadata": {},
   "outputs": [
    {
     "data": {
      "text/plain": [
       "False"
      ]
     },
     "execution_count": 77,
     "metadata": {},
     "output_type": "execute_result"
    }
   ],
   "source": [
    "datos.isnull().values.any()"
   ]
  },
  {
   "cell_type": "code",
   "execution_count": 78,
   "id": "48c119b0-ae5c-4b02-86d1-fc4788627651",
   "metadata": {},
   "outputs": [
    {
     "data": {
      "text/plain": [
       "1    165\n",
       "0    138\n",
       "Name: target, dtype: int64"
      ]
     },
     "execution_count": 78,
     "metadata": {},
     "output_type": "execute_result"
    }
   ],
   "source": [
    "# Imprime la distribucion de la variable objetivo original \n",
    "#del dataset que se encuentra en la columna 14\n",
    "datos['target'].value_counts()\n",
    "#print(datos)"
   ]
  },
  {
   "cell_type": "markdown",
   "id": "c440c7d5-1cc9-48a7-9734-9ea081a9c93a",
   "metadata": {},
   "source": [
    "#### 1 --> Indica que la persona tiene la enfermedad cardiaca.\n",
    "\n",
    "#### 0 --> Indica que la persona no tiene enfermedad cardiaca."
   ]
  },
  {
   "cell_type": "markdown",
   "id": "535b2277-faec-43af-be16-377ec647316a",
   "metadata": {},
   "source": [
    "### 3. En está parte se realiza la división de las caracteristicas y el objeto "
   ]
  },
  {
   "cell_type": "code",
   "execution_count": 79,
   "id": "f2ce2901-6700-4510-85b0-1e8989012bc4",
   "metadata": {},
   "outputs": [],
   "source": [
    "#X=CARACTERISTICAS\n",
    "#Y=OBJETIVOS\n",
    "#Se crea la variable X, ne ella se almacenaran todas las caracteristicas\n",
    "X = datos.drop(columns='target', axis=1)\n",
    "\n",
    "#Almacena solo la columna 14 que son las variables objetivos originales\n",
    "Y = datos['target']"
   ]
  },
  {
   "cell_type": "code",
   "execution_count": 80,
   "id": "553c56e8-d942-4d94-aaed-4f329a096b8e",
   "metadata": {},
   "outputs": [
    {
     "name": "stdout",
     "output_type": "stream",
     "text": [
      "     age  sex  cp  trestbps  chol  fbs  restecg  thalach  exang  oldpeak  \\\n",
      "0     63    1   3       145   233    1        0      150      0      2.3   \n",
      "1     37    1   2       130   250    0        1      187      0      3.5   \n",
      "2     41    0   1       130   204    0        0      172      0      1.4   \n",
      "3     56    1   1       120   236    0        1      178      0      0.8   \n",
      "4     57    0   0       120   354    0        1      163      1      0.6   \n",
      "..   ...  ...  ..       ...   ...  ...      ...      ...    ...      ...   \n",
      "298   57    0   0       140   241    0        1      123      1      0.2   \n",
      "299   45    1   3       110   264    0        1      132      0      1.2   \n",
      "300   68    1   0       144   193    1        1      141      0      3.4   \n",
      "301   57    1   0       130   131    0        1      115      1      1.2   \n",
      "302   57    0   1       130   236    0        0      174      0      0.0   \n",
      "\n",
      "     slope  ca  thal  \n",
      "0        0   0     1  \n",
      "1        0   0     2  \n",
      "2        2   0     2  \n",
      "3        2   0     2  \n",
      "4        2   0     2  \n",
      "..     ...  ..   ...  \n",
      "298      1   0     3  \n",
      "299      1   0     3  \n",
      "300      1   2     3  \n",
      "301      1   1     3  \n",
      "302      1   1     2  \n",
      "\n",
      "[303 rows x 13 columns]\n"
     ]
    }
   ],
   "source": [
    "print(X)"
   ]
  },
  {
   "cell_type": "code",
   "execution_count": 81,
   "id": "2e968d5a-c306-47bc-8fae-b20aadb9ddc0",
   "metadata": {},
   "outputs": [
    {
     "name": "stdout",
     "output_type": "stream",
     "text": [
      "0      1\n",
      "1      1\n",
      "2      1\n",
      "3      1\n",
      "4      1\n",
      "      ..\n",
      "298    0\n",
      "299    0\n",
      "300    0\n",
      "301    0\n",
      "302    0\n",
      "Name: target, Length: 303, dtype: int64\n"
     ]
    }
   ],
   "source": [
    "#Variable objetivo (tarjet)\n",
    "print(Y)"
   ]
  },
  {
   "cell_type": "markdown",
   "id": "6e61bc5e-c1b9-4216-9a9f-dc0defd444e8",
   "metadata": {},
   "source": [
    "### 4. En esta parte se realiza la división de los datos de entrenamiento y datos de prueba "
   ]
  },
  {
   "cell_type": "code",
   "execution_count": 82,
   "id": "f09edeb7-7acb-4c97-91c6-a44a4db4fa19",
   "metadata": {},
   "outputs": [],
   "source": [
    "#Se va a dividir los datos que estan en la variable X (CARACTERISTICAS)\n",
    "#Se crean 4 variables: \n",
    "#X_entrenamiento y X_prueba: caracteristica\n",
    "#Y_entrenamiento y Y_prueba : contiene las variables objetivo \n",
    "#test_size : es el tamaño de la prueba hace referencia a que se va a tomar el 20% del conjunto de datos para el entrenamiento del algoritmo\n",
    "#stratify lo que hace es ditribuir los datos de manera en uniforma para los datos de entrenamiento y de prueba\n",
    "#random_state : puede garantizar que la salida de la Ejecución 1 será igual a la salida de la Ejecución 2 \n",
    "#En la práctica, se debe establecer el random_stateen un número fijo mientras prueba cosas, pero luego eliminarlo \n",
    "#en producción si realmente necesita una división aleatoria (y no fija).\n",
    "X_entrenamiento, X_prueba, Y_entrenamiento, Y_prueba = train_test_split(X, Y, test_size=0.2, stratify=Y, random_state=2)"
   ]
  },
  {
   "cell_type": "code",
   "execution_count": 83,
   "id": "118dad65-89a6-4067-b745-f779226761fa",
   "metadata": {},
   "outputs": [
    {
     "name": "stdout",
     "output_type": "stream",
     "text": [
      "Dataset:  (303, 13)\n",
      "Datos de entrenamiento 80%:  (242, 13)\n",
      "Datos de prueba 20%: (61, 13)\n",
      "Variable objetivo entrenamiento (242,)\n",
      "Variable objetivo prueba (61,)\n"
     ]
    }
   ],
   "source": [
    "#Imprimir el dataset original = X, los datos de entrenamiento = X_entrenaminto,  los datos de prueba = X_prueba\n",
    "#El 80% son los datos de entrenamiento y el 20% los datos de prueba\n",
    "print(\"Dataset: \",X.shape)\n",
    "print(\"Datos de entrenamiento 80%: \",X_entrenamiento.shape)\n",
    "print(\"Datos de prueba 20%:\",X_prueba.shape)\n",
    "print(\"Variable objetivo entrenamiento\",Y_entrenamiento.shape)\n",
    "print(\"Variable objetivo prueba\",Y_prueba.shape)"
   ]
  },
  {
   "cell_type": "markdown",
   "id": "46584b9b-4f6e-43b0-9927-3474f0d31629",
   "metadata": {},
   "source": [
    "### 5.Entrenar el modelo de aprendizaje automatico, se esta utilizando un modelo de regresion logistica ya que este permite tener una clasificacion binaria (1 tiene la enfermedad y 0 no la tiene)"
   ]
  },
  {
   "cell_type": "code",
   "execution_count": 84,
   "id": "803cfd5f-e8a0-4579-a1c6-12841c1cc617",
   "metadata": {},
   "outputs": [],
   "source": [
    "#En la variable aprendizaje se va a cargar el modelo de regresion logistica\n",
    "#Como se puede notar se importo el modelo LogisticRegression() de la libreria sklearn.linear_model \n",
    "modelo_aprendizaje = LogisticRegression()"
   ]
  },
  {
   "cell_type": "code",
   "execution_count": 85,
   "id": "5ec6607d-7604-458d-aff4-2f22d869f380",
   "metadata": {},
   "outputs": [
    {
     "name": "stderr",
     "output_type": "stream",
     "text": [
      "C:\\Users\\johns\\anaconda3\\lib\\site-packages\\sklearn\\linear_model\\_logistic.py:763: ConvergenceWarning: lbfgs failed to converge (status=1):\n",
      "STOP: TOTAL NO. of ITERATIONS REACHED LIMIT.\n",
      "\n",
      "Increase the number of iterations (max_iter) or scale the data as shown in:\n",
      "    https://scikit-learn.org/stable/modules/preprocessing.html\n",
      "Please also refer to the documentation for alternative solver options:\n",
      "    https://scikit-learn.org/stable/modules/linear_model.html#logistic-regression\n",
      "  n_iter_i = _check_optimize_result(\n"
     ]
    },
    {
     "data": {
      "text/plain": [
       "LogisticRegression()"
      ]
     },
     "execution_count": 85,
     "metadata": {},
     "output_type": "execute_result"
    }
   ],
   "source": [
    "#Basicamente el metodo fit() de la libreria sklearn entrena el modelo_aprendizaje con los datos de entrenamiento X_entrenamiento - Y_entrenamiento \n",
    "#El algoritmo encontrara la relacion o patron dentro de las caracteristicas de los datos de entrenamiento, para luego \n",
    "#clasificar a las personas segun obedezcan o no a este patron, de la siguiente manera 1=persona enferma o 0=persona sana\n",
    "modelo_aprendizaje.fit(X_entrenamiento, Y_entrenamiento)"
   ]
  },
  {
   "cell_type": "markdown",
   "id": "e2fcefe4-ac08-4174-969b-98aa499948ed",
   "metadata": {},
   "source": [
    "#### Evaluacion del Modelo de regresion logistica "
   ]
  },
  {
   "cell_type": "markdown",
   "id": "a25a2a8c-8eb9-4b17-a482-24a26b6ddb89",
   "metadata": {},
   "source": [
    "#### Puntuación de presición para los datos de entrenamiento"
   ]
  },
  {
   "cell_type": "code",
   "execution_count": 86,
   "id": "5f27e55e-4e86-49f5-a9af-1a7d72c85707",
   "metadata": {},
   "outputs": [
    {
     "name": "stdout",
     "output_type": "stream",
     "text": [
      "Variable objetivo (Predicción): \n",
      " [1 0 1 0 0 1 1 1 1 1 1 1 1 1 1 1 1 0 0 1 0 1 1 1 1 1 1 0 0 0 1 0 1 1 0 1 0\n",
      " 1 0 0 0 1 0 0 1 1 0 1 0 1 0 1 0 0 1 0 1 0 1 1 1 1 1 0 1 1 0 1 1 1 1 0 0 1\n",
      " 1 0 0 1 0 1 0 0 1 0 0 0 1 1 1 1 0 1 0 0 1 0 0 1 0 0 1 1 1 0 0 1 0 1 1 0 1\n",
      " 1 0 1 1 0 1 1 0 0 1 0 0 0 0 1 1 1 1 0 1 0 1 1 1 1 0 0 0 1 1 1 1 1 0 0 0 0\n",
      " 0 1 0 1 1 0 1 1 1 1 1 0 1 1 0 0 1 0 1 1 1 1 1 0 1 1 1 0 0 0 1 1 1 1 1 0 1\n",
      " 1 1 0 1 1 0 0 1 0 1 1 0 1 0 1 1 0 1 0 1 0 0 1 0 1 0 1 1 1 1 1 1 0 0 0 1 1\n",
      " 1 0 1 0 1 1 1 1 1 1 0 0 1 1 1 1 1 0 1 1]\n",
      "Exactitud: 0.8512396694214877\n",
      "Precision: 0.9166666666666666\n",
      "Recuperacion: 0.8287671232876712\n"
     ]
    }
   ],
   "source": [
    "# Puntuacion de presicion de los datos de entrenamiento\n",
    "#la variable X_entrenamiento_prediccion, es el valor objetivo predicho por el modelo de aprendizaje, esta se debe comparar \n",
    "#con los valores objetivos de la columna tarjet del dataset los cualse son los valores objetivo originales\n",
    "#La funcion predict() predice los valores objetivo de nuestro modelo de aprendizaje, por lo tanto se le pasa el conjunto de \n",
    "#datos de entrenamiento \n",
    "X_entrenamiento_prediccion = modelo_aprendizaje.predict(X_entrenamiento) #predicion externa\n",
    "\n",
    "#La variable entrenamiento_data_presicion hace referencia a la precisión de los datos de entrenamiento, aca se almacenara el valor\n",
    "#de presicion \n",
    "entrenamiento_data_precision = accuracy_score(X_entrenamiento_prediccion, Y_entrenamiento)\n",
    "\n",
    "#Imprime la predicion (variables objetivos) del conjunto de datos de entrenamiento\n",
    "print(\"Variable objetivo (Predicción): \\n\",X_entrenamiento_prediccion)\n",
    "\n",
    "print(\"Exactitud:\",accuracy_score(X_entrenamiento_prediccion, Y_entrenamiento))\n",
    "print(\"Precision:\",metrics.precision_score(X_entrenamiento_prediccion, Y_entrenamiento))\n",
    "print(\"Recuperacion:\",metrics.recall_score(X_entrenamiento_prediccion, Y_entrenamiento))"
   ]
  },
  {
   "cell_type": "code",
   "execution_count": 87,
   "id": "3693dd22-6ef2-4237-a691-c19e1538ebaf",
   "metadata": {},
   "outputs": [
    {
     "name": "stdout",
     "output_type": "stream",
     "text": [
      "Precision en los datos de entrenamiento :  0.8512396694214877\n"
     ]
    }
   ],
   "source": [
    "#Se imprime la presicion de los datos de entrenamiento, mas del 75% es un numero bueno, se esta obteniendo una precision de \n",
    "#85% por lo cual el modelo de regresion logisticia \"modelo_aprendizaje\" puede predecir correctamente 85 valores\n",
    "#Se obitnene este valor porque el conjunto de datos es muy pequeño 303 y se han utilizado 242 para el entrenamiento \n",
    "print('Precision en los datos de entrenamiento : ',entrenamiento_data_precision)"
   ]
  },
  {
   "cell_type": "markdown",
   "id": "ac1f6fc7-32ca-46e5-a134-5b96ef3256f0",
   "metadata": {},
   "source": [
    "#### Tambien se necesita obtener la puntuacion de presición para los datos de prueba"
   ]
  },
  {
   "cell_type": "code",
   "execution_count": 88,
   "id": "eea329c6-e6d7-4ae6-883d-831e0ab60b7f",
   "metadata": {},
   "outputs": [
    {
     "name": "stdout",
     "output_type": "stream",
     "text": [
      "Variable objetivo (Predicción): \n",
      " [0 1 1 0 1 1 0 0 1 0 1 0 0 0 1 1 0 1 0 1 1 0 1 1 0 0 0 0 1 0 1 1 1 0 0 0 1\n",
      " 0 0 1 0 1 1 1 1 1 1 0 1 0 0 1 0 1 1 0 0 0 1 1 1]\n",
      "Exactitud: 0.819672131147541\n",
      "Precision: 0.8181818181818182\n",
      "Recuperacion: 0.84375\n"
     ]
    }
   ],
   "source": [
    "#Precisión en los datos de prueba\n",
    "#la variable X_prueba_prediccion, tambien es el valor objetivo para luego comparar esos valores con la columna\n",
    "#tarjet que son los valores objetivos originales\n",
    "\n",
    "#El objetivo es hallar las variables objetivo con el conjunto de datos de prueba X_prueba para luego compara estos valor con \n",
    "#el conjunto de variables objetivo reales del dataset Y_prueba\n",
    "X_prueba_prediccion = modelo_aprendizaje.predict(X_prueba)\n",
    "\n",
    "#Imprime la predicion (variables objetivos) del conjunto de datos de prueba\n",
    "print(\"Variable objetivo (Predicción): \\n\", X_prueba_prediccion)\n",
    "#En esta parte se compara los datos que se predijeron X_prueba_prediccion para compararlos con los datos originales\n",
    "#del dataset Y_prueba y asi calcular la puntuacion de precision\n",
    "prueba_data_precision = accuracy_score(X_prueba_prediccion, Y_prueba)\n",
    "print(\"Exactitud:\",accuracy_score(X_prueba_prediccion, Y_prueba))\n",
    "print(\"Precision:\",metrics.precision_score(X_prueba_prediccion, Y_prueba))\n",
    "print(\"Recuperacion:\",metrics.recall_score(X_prueba_prediccion, Y_prueba))"
   ]
  },
  {
   "cell_type": "code",
   "execution_count": 89,
   "id": "757859fd-9fd5-40f7-8348-3954218edb5b",
   "metadata": {},
   "outputs": [
    {
     "name": "stdout",
     "output_type": "stream",
     "text": [
      "Precisión en los datos de prueba :  0.819672131147541\n"
     ]
    }
   ],
   "source": [
    "##Se imprime la presicion de los datos de prueba, se esta obteniendo una precision de \n",
    "#82% por lo cual el modelo de regresion logisticia \"modelo_aprendizaje\" puede predecir correctamente 82 valores\n",
    "#Se obtien este valor porque el conjunto de datos es muy pequeño 303 y se han utilizado 61 para datos de prueba\n",
    "print('Precisión en los datos de prueba : ', prueba_data_precision)"
   ]
  },
  {
   "cell_type": "markdown",
   "id": "1750c8c6-b897-49b6-a70e-a0fa70c3c018",
   "metadata": {},
   "source": [
    "##### Notese que la puntuacion de presicion para los datos de entrenamiento es del 85% y para los datos de prueba es del 82%, cabe aclarar que la diferencia entre estos dos porcentajes debe ser minima  "
   ]
  },
  {
   "cell_type": "markdown",
   "id": "640f0112-2285-430d-95bd-c6e2d1cf8e1b",
   "metadata": {},
   "source": [
    "### 5. Construción del sistema que predice las enfermades que pueda tener una persona en su corazón "
   ]
  },
  {
   "cell_type": "code",
   "execution_count": 90,
   "id": "e6763be8-a8e0-4148-8a6a-0a276c084063",
   "metadata": {},
   "outputs": [
    {
     "name": "stdout",
     "output_type": "stream",
     "text": [
      "Caracteristicas de la persona: \n",
      " [ 37   0   2 120 215   0   1 170   0   0   2   0   2]\n",
      "**************************************************************************\n",
      "Variable objetivo (Prediccion): [1]\n",
      "**************************************************************************\n",
      "La persona tiene una enfermedad cardiaca\n"
     ]
    }
   ],
   "source": [
    "#Persona (Caracteristicas)\n",
    "#persona = (49,1,2,120,188,0,1,139,0,2,1,3,3)\n",
    "persona = (37,0,2,120,215,0,1,170,0,0,2,0,2)\n",
    "\n",
    "#Cambia los datos de entrada a una matriz numpy\n",
    "persona_array= np.asarray(persona)\n",
    "\n",
    "print(\"Caracteristicas de la persona: \\n\", persona_array)\n",
    "\n",
    "# Encontrar la prediccion para un solo valor, remodelar la matriz numpy como \n",
    "#estamos prediciendo solo en una instancia\n",
    "#La funcion np.reshape da una nueva forma a una matriz sin cambiar sus datos. \n",
    "persona_data_reshaped = persona_array.reshape(1,-1)\n",
    "\n",
    "#print(persona_data_reshaped)\n",
    "\n",
    "#Se crea una variable donde se almacenara el valor predicho por el modelo de aprendizaje \n",
    "#autromatico \"modelo_aprendizaje\" \n",
    "prediccion = modelo_aprendizaje.predict(persona_data_reshaped)\n",
    "print(\"**************************************************************************\")\n",
    "print(\"Variable objetivo (Prediccion):\", prediccion)\n",
    "\n",
    "print(\"**************************************************************************\")\n",
    "if (prediccion[0]== 0):\n",
    "    print('La persona no tiene una enfermedad cardiaca')\n",
    "else:\n",
    "    print('La persona tiene una enfermedad cardiaca')"
   ]
  }
 ],
 "metadata": {
  "kernelspec": {
   "display_name": "Python 3 (ipykernel)",
   "language": "python",
   "name": "python3"
  },
  "language_info": {
   "codemirror_mode": {
    "name": "ipython",
    "version": 3
   },
   "file_extension": ".py",
   "mimetype": "text/x-python",
   "name": "python",
   "nbconvert_exporter": "python",
   "pygments_lexer": "ipython3",
   "version": "3.9.7"
  }
 },
 "nbformat": 4,
 "nbformat_minor": 5
}
